{
 "cells": [
  {
   "cell_type": "markdown",
   "metadata": {},
   "source": [
    "# Smart Support Triage Walkthrough\n",
    "\n",
    "This notebook demonstrates how to use the Smart Support Triage agent built from multiple design patterns.\n",
    "\n",
    "```python\n",
    "from demos.smart_support_triage import run_smart_support_demo\n",
    "\n",
    "result = run_smart_support_demo(ticket_id=\"TCK-101\")\n",
    "result.to_markdown()\n",
    "```\n",
    "\n",
    "Switch `mock=False` and provide an API key to experience live LLM behaviour."
   ]
  }
 ],
 "metadata": {
  "kernelspec": {
   "display_name": "Python 3",
   "language": "python",
   "name": "python3"
  },
  "language_info": {
   "name": "python",
   "version": "3.10"
  }
 },
 "nbformat": 4,
 "nbformat_minor": 5
}
